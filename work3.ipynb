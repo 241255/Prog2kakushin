{
  "nbformat": 4,
  "nbformat_minor": 0,
  "metadata": {
    "colab": {
      "provenance": [],
      "authorship_tag": "ABX9TyPCebDNVoTHxqQeiLCLHAU/",
      "include_colab_link": true
    },
    "kernelspec": {
      "name": "python3",
      "display_name": "Python 3"
    },
    "language_info": {
      "name": "python"
    }
  },
  "cells": [
    {
      "cell_type": "markdown",
      "metadata": {
        "id": "view-in-github",
        "colab_type": "text"
      },
      "source": [
        "<a href=\"https://colab.research.google.com/github/241255/Prog2kakushin/blob/main/work3.ipynb\" target=\"_parent\"><img src=\"https://colab.research.google.com/assets/colab-badge.svg\" alt=\"Open In Colab\"/></a>"
      ]
    },
    {
      "cell_type": "code",
      "execution_count": null,
      "metadata": {
        "id": "t38FwqDB-yPO"
      },
      "outputs": [],
      "source": [
        "import numpy as np\n",
        "import cv2,sys\n",
        "from google.colab.patches import cv2_imshow\n",
        "\n",
        "#カスケード型分類器の読み込み\n",
        "face_cascade = cv2.CascadeClassifier('haarcascade_frontalface_alt.xml')\n",
        "eye_cascade = cv2.CascadeClassifier('haarcascade_eye.xml')\n",
        "\n",
        "#顔画像の読み込み\n",
        "face = cv2.imread('28454457_s.jpg')\n",
        "\n",
        "#顔の検出\n",
        "faces = face_cascade.detectMultiScale(face,1.1,3)\n",
        "\n",
        "#検出した顔を黒い線で囲む\n",
        "for (x,y,w,h) in faces:\n",
        "    face = cv2.rectangle(face,(x,y),(x+w,y+h),(1,1,1),2)\n",
        "    roi_color = face[y:y+h, x:x+w]\n",
        "    eyes = eye_cascade.detectMultiScale(roi_color)\n",
        "\n",
        "#顔の範囲の中から目を検出して白い線で囲む\n",
        "for (ex,ey,ew,eh) in eyes:\n",
        "    cv2.rectangle(roi_color,(ex,ey),(ex+ew,ey+eh),(255,255,255),2)\n",
        "\n",
        "#画像を表示\n",
        "cv2_imshow(face)"
      ]
    }
  ]
}