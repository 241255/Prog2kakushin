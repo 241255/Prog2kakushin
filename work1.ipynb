{
  "nbformat": 4,
  "nbformat_minor": 0,
  "metadata": {
    "colab": {
      "provenance": [],
      "authorship_tag": "ABX9TyPP2tv6X6g/yyN1TZ8tLola",
      "include_colab_link": true
    },
    "kernelspec": {
      "name": "python3",
      "display_name": "Python 3"
    },
    "language_info": {
      "name": "python"
    }
  },
  "cells": [
    {
      "cell_type": "markdown",
      "metadata": {
        "id": "view-in-github",
        "colab_type": "text"
      },
      "source": [
        "<a href=\"https://colab.research.google.com/github/241255/Prog2kakushin/blob/main/work1.ipynb\" target=\"_parent\"><img src=\"https://colab.research.google.com/assets/colab-badge.svg\" alt=\"Open In Colab\"/></a>"
      ]
    },
    {
      "cell_type": "code",
      "execution_count": null,
      "metadata": {
        "id": "L_U4urOt9t5j"
      },
      "outputs": [],
      "source": [
        "from re import T\n",
        "import pandas as pd\n",
        "import numpy as np\n",
        "from matplotlib import pyplot as plt\n",
        "from google.colab import files\n",
        "\n",
        "#料理の栄養価一覧(40203691000000500001.csv')を読みこみ\n",
        "uploaded = files.upload()\n",
        "\n",
        "df = pd.read_csv('40203691000000500001.csv')\n",
        "df = df[['料理の種類','料理名','エネルギー[キロカロリー]','たんぱく質[グラム]','脂質[グラム]','炭水化物[グラム]','食塩相当量[グラム]','野菜量[グラム]']]\n",
        "\n",
        "print('性別を入力してください')\n",
        "print(1,'男性')\n",
        "print(2,'女性')\n",
        "sei = int(input())\n",
        "if sei == 1:\n",
        "  kk = 2200\n",
        "elif sei == 2:\n",
        "  kk = 2000\n",
        "\n",
        "\n",
        "list = ['朝','昼','夜']\n",
        "gk = 0\n",
        "for i in range(0,3):\n",
        "  print(list[i] + '飯')\n",
        "  a = np.random.randint(0,51)\n",
        "  b = np.random.randint(51,124)\n",
        "  c = np.random.randint(124,184)\n",
        "  ssyoku = df[a:a+1]\n",
        "  ssai = df[b:b+1]\n",
        "  hsai = df[c:c+1]\n",
        "  print(ssyoku['料理名'])\n",
        "  print(ssai['料理名'])\n",
        "  print(hsai['料理名'])\n",
        "  gk += int(ssyoku['エネルギー[キロカロリー]']) + int(ssai['エネルギー[キロカロリー]']) + int(hsai['エネルギー[キロカロリー]'])\n",
        "print('カロリー調整での追加')\n",
        "while True:\n",
        "  d = np.random.randint(184,267)\n",
        "  hhsai = df[d:d+1]\n",
        "  print(hhsai['料理名'])\n",
        "  gk += int(hhsai['エネルギー[キロカロリー]'])\n",
        "  if kk <= int(gk):\n",
        "    break\n"
      ]
    }
  ]
}